{
 "cells": [
  {
   "cell_type": "code",
   "execution_count": null,
   "metadata": {},
   "outputs": [],
   "source": [
    "#К сожалению, у нас произошли проблемы с импортом данных в PostgreSQL. Поэтому используем данный скрипт. \n",
    "#Загрузите базу risks из файла (некоторые пункты скрипта на ней уже могут быть выполнены), разверните на сервере или можно создать новую базу и загрузить мастером импорта таблицы в базу из файлов csv. В базе должны быть 4 таблицы base1, base2, instrs, bond_description. \n",
    "#Далее следует запустить скрипт, который создаст 3 связанные ключами таблицы. Части скрипта нужно запускать отдельно. Следует убедиться, что скрипты запускаются в нужной базе risks.\n",
    "#скрипт 1. объединение таблиц торгов\n",
    "SELECT * INTO [risks].[dbo].[base_prices] FROM [risks].[dbo].[base1]\n",
    "UNION ALL\n",
    "SELECT * FROM [risks].[dbo].[base2];\n",
    "DROP TABLE IF EXIST [risks].[dbo].[base1];\n",
    "DROP TABLE IF EXIST [risks].[dbo].[base2];\n",
    "GO\n",
    "\n",
    "#изменение форматов данных для установки ключей\n",
    "ALTER TABLE [risks].[dbo].[base_prices] ALTER COLUMN ID int NOT NULL;\n",
    "ALTER TABLE [risks].[dbo].[base_prices] ALTER COLUMN ISIN varchar(50) NOT NULL;\n",
    "ALTER TABLE [risks].[dbo].[bond_discription] ALTER COLUMN [ISIN, RegCode, NRDCode] varchar(50) NOT NULL;\n",
    "ALTER TABLE [risks].[dbo].[instrs] ALTER COLUMN ID int NOT NULL;\n",
    "GO\n",
    "\n",
    "#установка первичных и внешних ключей. Если появляется ошибка, проверить в базе, установлены ли ключи \n",
    "ALTER TABLE [risks].[dbo].[instrs] ADD PRIMARY KEY (ID);\n",
    "ALTER TABLE [risks].[dbo].[bond_discription] ADD PRIMARY KEY ([ISIN, RegCode, NRDCode]);\n",
    "ALTER TABLE [risks].[dbo].[base_prices] ADD CONSTRAINT FK_base1 FOREIGN KEY (ID) REFERENCES [HW].[dbo].[instrs] (ID); \n",
    "GO \n",
    "\n",
    " SELECT [risks].[dbo].[base_prices].[ID] INTO [risks].[dbo].[unknownISINs_ID]\n",
    " FROM [risks].[dbo].[base_prices] LEFT JOIN [risks].[dbo].[bond_discription] \n",
    "\tON [base_prices].[ISIN] = [bond_discription].[ISIN, RegCode, NRDCode]\n",
    "\tWHERE [bond_discription].[ISIN, RegCode, NRDCode] IS NULL;\n",
    " SELECT * INTO [risks].[dbo].[uknownISINs_prices]\n",
    "    FROM [risks].[dbo].[base_prices]  \n",
    "\t\tWHERE [ID] IN (SELECT [ID] FROM [risks].[dbo].[uknownISINs_ID]) ;\n",
    "\tGO\n",
    " DELETE FROM [risks].[dbo].[base_prices]  \n",
    "\t\tWHERE [ID] IN (SELECT [ID] FROM [risks].[dbo].[unknownISINs_ID]) ;\n",
    "\tGO\n",
    "\n",
    "ALTER TABLE [risks].[dbo].[base_prices] ADD CONSTRAINT FK_base2 FOREIGN KEY (ISIN)     \n",
    "    REFERENCES [risks].[dbo].[bond_discription] ([ISIN, RegCode, NRDCode]);    \n",
    "GO"
   ]
  }
 ],
 "metadata": {
  "kernelspec": {
   "display_name": "Python 3",
   "language": "python",
   "name": "python3"
  },
  "language_info": {
   "codemirror_mode": {
    "name": "ipython",
    "version": 3
   },
   "file_extension": ".py",
   "mimetype": "text/x-python",
   "name": "python",
   "nbconvert_exporter": "python",
   "pygments_lexer": "ipython3",
   "version": "3.7.1"
  }
 },
 "nbformat": 4,
 "nbformat_minor": 2
}
